{
 "cells": [
  {
   "cell_type": "code",
   "execution_count": 1,
   "id": "6246a8ab-f567-4d4a-a283-3554cfacda60",
   "metadata": {},
   "outputs": [],
   "source": [
    "def celsius_to_fahrenheit(celsius):\n",
    "    # Формула: F = C * 9/5 + 32\n",
    "    fahrenheit = celsius * 9/5 + 32\n",
    "    return fahrenheit"
   ]
  },
  {
   "cell_type": "code",
   "execution_count": 2,
   "id": "39c8176e-5b6f-4d04-925f-fea8d32e6222",
   "metadata": {},
   "outputs": [],
   "source": [
    "def fahrenheit_to_celsius(fahrenheit):\n",
    "    # Формула: C = (F - 32) * 5/9\n",
    "    celsius = (fahrenheit - 32) * 5/9\n",
    "    return celsius"
   ]
  },
  {
   "cell_type": "code",
   "execution_count": 3,
   "id": "02ab6d97-4d9c-4109-8101-3f9a53a6962f",
   "metadata": {},
   "outputs": [
    {
     "name": "stdout",
     "output_type": "stream",
     "text": [
      "0°C -> 32.0°F\n"
     ]
    }
   ],
   "source": [
    "celsius_temp = 0\n",
    "fahrenheit_temp = celsius_to_fahrenheit(celsius_temp)\n",
    "print(f\"{celsius_temp}°C -> {fahrenheit_temp}°F\")"
   ]
  },
  {
   "cell_type": "code",
   "execution_count": 4,
   "id": "a42c588f-996d-4ebc-abdc-00608cc45a60",
   "metadata": {},
   "outputs": [
    {
     "name": "stdout",
     "output_type": "stream",
     "text": [
      "32°F -> 0.0°C\n"
     ]
    }
   ],
   "source": [
    "fahrenheit_temp = 32\n",
    "celsius_temp = fahrenheit_to_celsius(fahrenheit_temp)\n",
    "print(f\"{fahrenheit_temp}°F -> {celsius_temp}°C\")"
   ]
  }
 ],
 "metadata": {
  "kernelspec": {
   "display_name": "Python 3 (ipykernel)",
   "language": "python",
   "name": "python3"
  },
  "language_info": {
   "codemirror_mode": {
    "name": "ipython",
    "version": 3
   },
   "file_extension": ".py",
   "mimetype": "text/x-python",
   "name": "python",
   "nbconvert_exporter": "python",
   "pygments_lexer": "ipython3",
   "version": "3.12.4"
  }
 },
 "nbformat": 4,
 "nbformat_minor": 5
}
