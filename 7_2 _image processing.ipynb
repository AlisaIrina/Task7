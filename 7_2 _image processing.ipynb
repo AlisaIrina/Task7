{
 "cells": [
  {
   "cell_type": "code",
   "execution_count": 24,
   "id": "8552a292-31da-4772-b187-090af3b79ad5",
   "metadata": {},
   "outputs": [],
   "source": [
    "from PIL import Image, ImageFilter"
   ]
  },
  {
   "cell_type": "code",
   "execution_count": 25,
   "id": "fa2b08c8-12ce-4eba-b16c-e34ef3085ac2",
   "metadata": {},
   "outputs": [],
   "source": [
    "image_path = \"neurocreoru.png\"\n",
    "image = Image.open(image_path)"
   ]
  },
  {
   "cell_type": "code",
   "execution_count": 26,
   "id": "76a39dc6-732c-46d6-976c-57bd4fef8ce2",
   "metadata": {},
   "outputs": [],
   "source": [
    "# Функция для изменения размера изображения\n",
    "def resize_image(img, new_width, new_height):\n",
    "    resized_img = img.resize((new_width, new_height))\n",
    "    return resized_img"
   ]
  },
  {
   "cell_type": "code",
   "execution_count": 27,
   "id": "6398b421-321c-4390-8527-a29a2971e844",
   "metadata": {},
   "outputs": [],
   "source": [
    "# Функция для конвертации изображения в черно-белое\n",
    "def convert_to_bw(img):\n",
    "    bw_img = img.convert(\"L\")\n",
    "    return bw_img\n"
   ]
  },
  {
   "cell_type": "code",
   "execution_count": 28,
   "id": "f18e3f9f-1b28-4b1b-be3a-31cf6c07921a",
   "metadata": {},
   "outputs": [],
   "source": [
    "# Функция для применения фильтра Гаусса\n",
    "def apply_gaussian_blur(img, radius):\n",
    "    blurred_img = img.filter(ImageFilter.GaussianBlur(radius))\n",
    "    return blurred_img"
   ]
  },
  {
   "cell_type": "code",
   "execution_count": 29,
   "id": "e5a4afa4-c0cd-412d-98ff-e2ab4e376ef0",
   "metadata": {},
   "outputs": [],
   "source": [
    "# Пример выполнения функций\n",
    "new_width, new_height = 100, 100 \n",
    "gaussian_radius = 2 "
   ]
  },
  {
   "cell_type": "code",
   "execution_count": 30,
   "id": "dc7ed98f-c29d-4d90-8b98-e8140692537d",
   "metadata": {},
   "outputs": [],
   "source": [
    "# Изменение размера\n",
    "resized_image = resize_image(image, new_width, new_height)\n",
    "resized_image.show()"
   ]
  },
  {
   "cell_type": "code",
   "execution_count": 31,
   "id": "b058580b-ac00-4340-90e9-42d1fffa1fcb",
   "metadata": {},
   "outputs": [],
   "source": [
    "# Конвертация в черно-белое\n",
    "bw_image = convert_to_bw(resized_image) \n",
    "bw_image.show()  \n"
   ]
  },
  {
   "cell_type": "code",
   "execution_count": 32,
   "id": "8515347f-ed8f-4ce3-9516-fc426f2c908a",
   "metadata": {},
   "outputs": [],
   "source": [
    "# Применение фильтра Гаусса\n",
    "blurred_image = apply_gaussian_blur(bw_image, gaussian_radius) \n",
    "blurred_image.show() "
   ]
  },
  {
   "cell_type": "code",
   "execution_count": null,
   "id": "236d3167-f589-4aaf-8328-0c85233a31cf",
   "metadata": {},
   "outputs": [],
   "source": []
  }
 ],
 "metadata": {
  "kernelspec": {
   "display_name": "Python 3 (ipykernel)",
   "language": "python",
   "name": "python3"
  },
  "language_info": {
   "codemirror_mode": {
    "name": "ipython",
    "version": 3
   },
   "file_extension": ".py",
   "mimetype": "text/x-python",
   "name": "python",
   "nbconvert_exporter": "python",
   "pygments_lexer": "ipython3",
   "version": "3.12.4"
  }
 },
 "nbformat": 4,
 "nbformat_minor": 5
}
