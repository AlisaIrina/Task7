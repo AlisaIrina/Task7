{
 "cells": [
  {
   "cell_type": "code",
   "execution_count": 1,
   "id": "a75070c3-730c-4b5b-801c-f6c3d8376afa",
   "metadata": {
    "scrolled": true
   },
   "outputs": [],
   "source": [
    "def is_palindrome(s):\n",
    "    cleaned_str = ''.join(char.lower() for char in s if char.isalnum())\n",
    "    return cleaned_str == cleaned_str[::-1]"
   ]
  },
  {
   "cell_type": "code",
   "execution_count": 2,
   "id": "cfb92b30-3b17-4698-939a-91d4c2bb3582",
   "metadata": {},
   "outputs": [
    {
     "name": "stdin",
     "output_type": "stream",
     "text": [
      "Введите строку:   Я с уколов — еле волокуся. \n"
     ]
    }
   ],
   "source": [
    "input_str = input(\"Введите строку: \")"
   ]
  },
  {
   "cell_type": "code",
   "execution_count": 3,
   "id": "537b1dd2-779d-479c-9a5b-49b69814dd4d",
   "metadata": {},
   "outputs": [
    {
     "name": "stdout",
     "output_type": "stream",
     "text": [
      "Введенная строка является палиндромом.\n"
     ]
    }
   ],
   "source": [
    "if is_palindrome(input_str):\n",
    "    print(\"Введенная строка является палиндромом.\")\n",
    "else:\n",
    "    print(\"Введенная строка не является палиндромом.\")"
   ]
  }
 ],
 "metadata": {
  "kernelspec": {
   "display_name": "Python 3 (ipykernel)",
   "language": "python",
   "name": "python3"
  },
  "language_info": {
   "codemirror_mode": {
    "name": "ipython",
    "version": 3
   },
   "file_extension": ".py",
   "mimetype": "text/x-python",
   "name": "python",
   "nbconvert_exporter": "python",
   "pygments_lexer": "ipython3",
   "version": "3.12.4"
  }
 },
 "nbformat": 4,
 "nbformat_minor": 5
}
