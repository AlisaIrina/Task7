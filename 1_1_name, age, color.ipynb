{
 "cells": [
  {
   "cell_type": "code",
   "execution_count": 1,
   "id": "5bb14109-998d-476f-8b32-766f296392f2",
   "metadata": {},
   "outputs": [
    {
     "name": "stdin",
     "output_type": "stream",
     "text": [
      "Укажите имя: Алиса\n",
      "Укажите укажите ваш возрост: 11\n",
      "Укажите свой любимый цвет: черный\n"
     ]
    },
    {
     "name": "stdout",
     "output_type": "stream",
     "text": [
      "Алиса\n",
      "11\n",
      "черный\n"
     ]
    }
   ],
   "source": [
    "name = input(\"Укажите имя:\")\n",
    "age = input(\"Укажите укажите ваш возрост:\")\n",
    "color = input(\"Укажите свой любимый цвет:\")\n",
    "print(name)\n",
    "print(age)\n",
    "print(color)"
   ]
  }
 ],
 "metadata": {
  "kernelspec": {
   "display_name": "Python 3 (ipykernel)",
   "language": "python",
   "name": "python3"
  },
  "language_info": {
   "codemirror_mode": {
    "name": "ipython",
    "version": 3
   },
   "file_extension": ".py",
   "mimetype": "text/x-python",
   "name": "python",
   "nbconvert_exporter": "python",
   "pygments_lexer": "ipython3",
   "version": "3.12.4"
  }
 },
 "nbformat": 4,
 "nbformat_minor": 5
}
