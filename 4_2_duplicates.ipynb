{
 "cells": [
  {
   "cell_type": "code",
   "execution_count": 1,
   "id": "faf5bc6e-c51b-4ac3-9995-207fee13eba8",
   "metadata": {},
   "outputs": [],
   "source": [
    "unique_numbers = set()"
   ]
  },
  {
   "cell_type": "code",
   "execution_count": 2,
   "id": "283b6895-a16e-4869-a713-493c04f5d06b",
   "metadata": {},
   "outputs": [
    {
     "name": "stdin",
     "output_type": "stream",
     "text": [
      "Введите числа пробел:  1 2 3 5 6 7 8 1 1 2 3 4 5 \n",
      "Введите числа пробел:  1 2 3 4 5 6 8 1 1 2 3 5 4\n",
      "Введите числа пробел:  1 1 2 3 5 4 6 8 6 3 4 3 5 \n",
      "Введите числа пробел:  2 2 3 5 4 6 8 9 3 2 2 6 \n",
      "Введите числа пробел:  1 2 3 4 2 5 3 6 4 8 2\n",
      "Введите числа пробел:  2 2 2 2 2 2 2 2 2 \n",
      "Введите числа пробел:  \n"
     ]
    }
   ],
   "source": [
    "while True:\n",
    "    number = input(\"Введите числа пробел: \")\n",
    "    if not number:\n",
    "        break\n",
    "    try:\n",
    "        unique_numbers.update(map(int, number.split()))\n",
    "    except ValueError:\n",
    "        print(\"Неверный ввод, попробуйте еще раз.\")\n"
   ]
  },
  {
   "cell_type": "code",
   "execution_count": 3,
   "id": "148cdc00-4faf-4b7a-b434-685ba617b221",
   "metadata": {},
   "outputs": [
    {
     "name": "stdout",
     "output_type": "stream",
     "text": [
      "Исходное множество {1, 2, 3, 4, 5, 6, 7, 8, 9}\n",
      "Множество без дубликатов {1, 2, 3, 4, 5, 6, 7, 8, 9}\n"
     ]
    }
   ],
   "source": [
    "print(\"Исходное множество\", unique_numbers)\n",
    "print(\"Множество без дубликатов\", set(unique_numbers))"
   ]
  }
 ],
 "metadata": {
  "kernelspec": {
   "display_name": "Python 3 (ipykernel)",
   "language": "python",
   "name": "python3"
  },
  "language_info": {
   "codemirror_mode": {
    "name": "ipython",
    "version": 3
   },
   "file_extension": ".py",
   "mimetype": "text/x-python",
   "name": "python",
   "nbconvert_exporter": "python",
   "pygments_lexer": "ipython3",
   "version": "3.12.4"
  }
 },
 "nbformat": 4,
 "nbformat_minor": 5
}
