{
 "cells": [
  {
   "cell_type": "code",
   "execution_count": 1,
   "id": "1b87405d-e3c6-4916-a362-7b9960786781",
   "metadata": {},
   "outputs": [],
   "source": [
    "import requests"
   ]
  },
  {
   "cell_type": "code",
   "execution_count": 2,
   "id": "7746d37a-0e95-4ce7-bde7-b9972346a094",
   "metadata": {},
   "outputs": [],
   "source": [
    "from collections import defaultdict"
   ]
  },
  {
   "cell_type": "code",
   "execution_count": 3,
   "id": "4efb1ef1-bc29-4822-8ab9-8d0c76536ea8",
   "metadata": {},
   "outputs": [],
   "source": [
    "session = requests.Session()"
   ]
  },
  {
   "cell_type": "code",
   "execution_count": 4,
   "id": "30ac422c-bb55-493d-8ed2-f670cdf5e2b2",
   "metadata": {},
   "outputs": [],
   "source": [
    "posts_response = session.get('https://jsonplaceholder.typicode.com/posts')\n",
    "\n",
    "if posts_response.status_code == 200:\n",
    "    posts = posts_response.json()\n",
    "else:\n",
    "    print(f\"Ошибка при получении постов: {posts_response.status_code}\")\n",
    "    exit()"
   ]
  },
  {
   "cell_type": "code",
   "execution_count": 5,
   "id": "3edbca11-b175-4a46-acc1-4d501ad3d610",
   "metadata": {},
   "outputs": [],
   "source": [
    "comments_response = session.get('https://jsonplaceholder.typicode.com/comments')\n",
    "\n",
    "if comments_response.status_code == 200:\n",
    "    comments = comments_response.json()\n",
    "else:\n",
    "    print(f\"Ошибка при получении комментариев: {comments_response.status_code}\")\n",
    "    exit()"
   ]
  },
  {
   "cell_type": "code",
   "execution_count": 6,
   "id": "26dd2a92-09e3-4fd4-86b7-3d28f81545ad",
   "metadata": {},
   "outputs": [],
   "source": [
    "comment_count = defaultdict(int)\n",
    "\n",
    "for comment in comments:\n",
    "    post_id = comment['postId']\n",
    "    comment_count[post_id] += 1"
   ]
  },
  {
   "cell_type": "code",
   "execution_count": 7,
   "id": "ffbde113-9c1b-4de8-bdac-4436324d316a",
   "metadata": {},
   "outputs": [],
   "source": [
    "max_comments_post_id = max(comment_count, key=comment_count.get)\n",
    "max_comments_count = comment_count[max_comments_post_id]\n",
    "max_comments_post = next(post for post in posts if post['id'] == max_comments_post_id)"
   ]
  },
  {
   "cell_type": "code",
   "execution_count": 8,
   "id": "36d0c826-f82d-4814-9441-96accaf147ae",
   "metadata": {},
   "outputs": [
    {
     "name": "stdout",
     "output_type": "stream",
     "text": [
      "Пост с ID: 1 имеет максимальное количество комментариев: 5\n",
      "Заголовок поста: sunt aut facere repellat provident occaecati excepturi optio reprehenderit\n",
      "Содержимое поста: quia et suscipit\n",
      "suscipit recusandae consequuntur expedita et cum\n",
      "reprehenderit molestiae ut ut quas totam\n",
      "nostrum rerum est autem sunt rem eveniet architecto\n"
     ]
    }
   ],
   "source": [
    "print(f\"Пост с ID: {max_comments_post_id} имеет максимальное количество комментариев: {max_comments_count}\")\n",
    "print(f\"Заголовок поста: {max_comments_post['title']}\")\n",
    "print(f\"Содержимое поста: {max_comments_post['body']}\")"
   ]
  },
  {
   "cell_type": "code",
   "execution_count": null,
   "id": "e73aaa65-ae84-4d95-a2e5-cfd24004f88f",
   "metadata": {},
   "outputs": [],
   "source": []
  }
 ],
 "metadata": {
  "kernelspec": {
   "display_name": "Python 3 (ipykernel)",
   "language": "python",
   "name": "python3"
  },
  "language_info": {
   "codemirror_mode": {
    "name": "ipython",
    "version": 3
   },
   "file_extension": ".py",
   "mimetype": "text/x-python",
   "name": "python",
   "nbconvert_exporter": "python",
   "pygments_lexer": "ipython3",
   "version": "3.12.4"
  }
 },
 "nbformat": 4,
 "nbformat_minor": 5
}
