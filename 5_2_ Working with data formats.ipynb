{
 "cells": [
  {
   "cell_type": "code",
   "execution_count": 1,
   "id": "637137e2-856c-4ac2-8dd2-1c47ce1c6a67",
   "metadata": {},
   "outputs": [],
   "source": [
    "import csv"
   ]
  },
  {
   "cell_type": "code",
   "execution_count": 2,
   "id": "8303da49-d1ff-4db6-84fe-cfe7fd167b92",
   "metadata": {},
   "outputs": [],
   "source": [
    "import json"
   ]
  },
  {
   "cell_type": "code",
   "execution_count": 3,
   "id": "b190a151-d57d-4507-bc0f-aff1b14b5c5d",
   "metadata": {},
   "outputs": [],
   "source": [
    "import random"
   ]
  },
  {
   "cell_type": "code",
   "execution_count": 4,
   "id": "1e44f8e6-a50b-4f64-9990-abbbca4caa22",
   "metadata": {},
   "outputs": [],
   "source": [
    "from collections import defaultdict"
   ]
  },
  {
   "cell_type": "code",
   "execution_count": 5,
   "id": "692fc196-4818-4bb5-bfe0-cf03f53d83dd",
   "metadata": {},
   "outputs": [],
   "source": [
    "def generate_fake_data(filename):\n",
    "    num_rows = 100\n",
    "    products = ['Товар A', 'Товар B', 'Товар C', 'Товар D']\n",
    "\n",
    "    with open(filename, mode='w', newline='', encoding='utf-8') as file:\n",
    "        writer = csv.writer(file)\n",
    "        writer.writerow(['ID продажи', 'Продукт', 'Количество', 'Цена за единицу'])\n",
    "        \n",
    "        for i in range(1, num_rows + 1):\n",
    "            product = random.choice(products)\n",
    "            quantity = random.randint(1, 10)\n",
    "            price_per_unit = round(random.uniform(5.0, 100.0), 2)\n",
    "            writer.writerow([i, product, quantity, price_per_unit])\n",
    "\n",
    "    print(f\"Файл {filename} успешно создан с фейковыми данными.\")"
   ]
  },
  {
   "cell_type": "code",
   "execution_count": 6,
   "id": "e558e1d2-74d6-4da0-9bc3-1fb872bf7232",
   "metadata": {},
   "outputs": [],
   "source": [
    "def calculate_total_income(filename):\n",
    "    total_income = defaultdict(float)\n",
    "\n",
    "    with open(filename, mode='r', encoding='utf-8') as file:\n",
    "        reader = csv.DictReader(file)\n",
    "        \n",
    "        for row in reader:\n",
    "            product = row['Продукт']\n",
    "            quantity = int(row['Количество'])\n",
    "            price_per_unit = float(row['Цена за единицу'])\n",
    "            income = quantity * price_per_unit\n",
    "            \n",
    "            total_income[product] += income\n",
    "\n",
    "    return total_income"
   ]
  },
  {
   "cell_type": "code",
   "execution_count": 7,
   "id": "ad942f1c-a0d9-449d-9b3d-decb73ae58b7",
   "metadata": {},
   "outputs": [],
   "source": [
    "def save_to_json(total_income, json_filename):\n",
    "    data_to_save = {\n",
    "        \"Общий доход\": total_income\n",
    "    }\n",
    "\n",
    "    with open(json_filename, mode='w', encoding='utf-8') as json_file:\n",
    "        json.dump(data_to_save, json_file, ensure_ascii=False, indent=4)\n",
    "\n",
    "    print(f\"Данные успешно сохранены в {json_filename}.\")\n"
   ]
  },
  {
   "cell_type": "code",
   "execution_count": 8,
   "id": "99ef72c2-b3e5-4de7-a0fc-967b5f94179e",
   "metadata": {},
   "outputs": [
    {
     "name": "stdout",
     "output_type": "stream",
     "text": [
      "Файл data.csv успешно создан с фейковыми данными.\n",
      "Общий доход по каждому продукту:\n",
      "Товар C: 7637.66 руб.\n",
      "Товар D: 5071.71 руб.\n",
      "Товар B: 6373.01 руб.\n",
      "Товар A: 8048.08 руб.\n",
      "Данные успешно сохранены в data.json.\n"
     ]
    }
   ],
   "source": [
    "if __name__ == \"__main__\":\n",
    "    csv_filename = 'data.csv'\n",
    "    json_filename = 'data.json'   \n",
    "    generate_fake_data(csv_filename)\n",
    "    total_income = calculate_total_income(csv_filename)\n",
    "    print(\"Общий доход по каждому продукту:\")\n",
    "    for product, income in total_income.items():\n",
    "        print(f\"{product}: {income:.2f} руб.\")\n",
    "    save_to_json(total_income, json_filename)"
   ]
  }
 ],
 "metadata": {
  "kernelspec": {
   "display_name": "Python 3 (ipykernel)",
   "language": "python",
   "name": "python3"
  },
  "language_info": {
   "codemirror_mode": {
    "name": "ipython",
    "version": 3
   },
   "file_extension": ".py",
   "mimetype": "text/x-python",
   "name": "python",
   "nbconvert_exporter": "python",
   "pygments_lexer": "ipython3",
   "version": "3.12.4"
  }
 },
 "nbformat": 4,
 "nbformat_minor": 5
}
