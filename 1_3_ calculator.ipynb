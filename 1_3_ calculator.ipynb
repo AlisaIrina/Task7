{
 "cells": [
  {
   "cell_type": "code",
   "execution_count": 1,
   "id": "86d38736-5314-466a-9897-86e2549b5cf7",
   "metadata": {},
   "outputs": [],
   "source": [
    "import sys"
   ]
  },
  {
   "cell_type": "code",
   "execution_count": null,
   "id": "2f49b354-5f54-40bb-8252-6616c7a5a95e",
   "metadata": {},
   "outputs": [
    {
     "name": "stdin",
     "output_type": "stream",
     "text": [
      "Введите первое число:  7\n",
      "Введите оператор (+, -, *, /):  -\n",
      "Введите второе число:  1\n"
     ]
    },
    {
     "name": "stdout",
     "output_type": "stream",
     "text": [
      "Результат: 6.0\n"
     ]
    }
   ],
   "source": [
    "while True:\n",
    "    try:  \n",
    "        first_operand = float(input(\"Введите первое число: \"))\n",
    "        operator = input(\"Введите оператор (+, -, *, /): \")\n",
    "        second_operand = float(input(\"Введите второе число: \"))\n",
    "        if operator == '+':\n",
    "            result = first_operand + second_operand\n",
    "        elif operator == '-':\n",
    "            result = first_operand - second_operand\n",
    "        elif operator == '*':\n",
    "            result = first_operand * second_operand\n",
    "        elif operator == '/':\n",
    "            result = first_operand / second_operand\n",
    "        print(f\"Результат: {result}\")\n",
    "    except ValueError:\n",
    "        print(\"Ошибка ввода! Пожалуйста, введите правильные числа.\")\n",
    "        continue\n",
    "    except KeyboardInterrupt:\n",
    "        print(\"\\nЗавершение работы калькулятора...\")\n",
    "        sys.exit()"
   ]
  }
 ],
 "metadata": {
  "kernelspec": {
   "display_name": "Python 3 (ipykernel)",
   "language": "python",
   "name": "python3"
  },
  "language_info": {
   "codemirror_mode": {
    "name": "ipython",
    "version": 3
   },
   "file_extension": ".py",
   "mimetype": "text/x-python",
   "name": "python",
   "nbconvert_exporter": "python",
   "pygments_lexer": "ipython3",
   "version": "3.12.4"
  }
 },
 "nbformat": 4,
 "nbformat_minor": 5
}
