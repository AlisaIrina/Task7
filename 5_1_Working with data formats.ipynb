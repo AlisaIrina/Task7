{
 "cells": [
  {
   "cell_type": "code",
   "execution_count": 22,
   "id": "6d635252-ad97-461b-971d-a2ac4eab2690",
   "metadata": {},
   "outputs": [],
   "source": [
    "import csv"
   ]
  },
  {
   "cell_type": "code",
   "execution_count": 23,
   "id": "8c4bab7b-caf6-496b-bf35-5637c021eb6a",
   "metadata": {},
   "outputs": [],
   "source": [
    "import random"
   ]
  },
  {
   "cell_type": "code",
   "execution_count": 24,
   "id": "e53aef2c-10f8-4f97-8808-10be9f813cb0",
   "metadata": {},
   "outputs": [
    {
     "name": "stdout",
     "output_type": "stream",
     "text": [
      "Файл data.csv успешно создан с фейковыми данными.\n"
     ]
    }
   ],
   "source": [
    "num_rows = 100\n",
    "products = ['Товар A', 'Товар B', 'Товар C', 'Товар D']\n",
    "with open('data.csv', mode='w', newline='', encoding='utf-8') as file:\n",
    "    writer = csv.writer(file)\n",
    "    writer.writerow(['ID продажи', 'Продукт', 'Количество', 'Цена за единицу'])\n",
    "    \n",
    "    for i in range(1, num_rows + 1):\n",
    "        product = random.choice(products)\n",
    "        quantity = random.randint(1, 10)  # Количество от 1 до 10\n",
    "        price_per_unit = round(random.uniform(5.0, 100.0), 2)  # Цена от 5 до 100\n",
    "        writer.writerow([i, product, quantity, price_per_unit])\n",
    "\n",
    "print(\"Файл data.csv успешно создан с фейковыми данными.\")"
   ]
  },
  {
   "cell_type": "code",
   "execution_count": 25,
   "id": "63b02c16-ba6f-4e4b-9596-c23a12c7cf66",
   "metadata": {},
   "outputs": [],
   "source": [
    "import csv"
   ]
  },
  {
   "cell_type": "code",
   "execution_count": 26,
   "id": "188044df-d4eb-4c99-96ce-6e27fce38f82",
   "metadata": {},
   "outputs": [],
   "source": [
    "from collections import defaultdict"
   ]
  },
  {
   "cell_type": "code",
   "execution_count": 27,
   "id": "cbf952ae-8a1c-40b7-9cc5-c0c15cd17388",
   "metadata": {},
   "outputs": [
    {
     "name": "stdout",
     "output_type": "stream",
     "text": [
      "Общий доход по каждому продукту:\n",
      "Товар B: 6123.08 руб.\n",
      "Товар C: 6280.91 руб.\n",
      "Товар A: 8889.07 руб.\n",
      "Товар D: 5803.86 руб.\n"
     ]
    }
   ],
   "source": [
    "def calculate_total_income(filename):\n",
    "    total_income = defaultdict(float)\n",
    "\n",
    "    with open(filename, mode='r', encoding='utf-8') as file:\n",
    "        reader = csv.DictReader(file)\n",
    "        \n",
    "        for row in reader:\n",
    "            product = row['Продукт']\n",
    "            quantity = int(row['Количество'])\n",
    "            price_per_unit = float(row['Цена за единицу'])\n",
    "            income = quantity * price_per_unit\n",
    "            \n",
    "            total_income[product] += income\n",
    "\n",
    "    return total_income\n",
    "\n",
    "if __name__ == \"__main__\":\n",
    "    filename = 'data.csv'\n",
    "    total_income = calculate_total_income(filename)\n",
    "\n",
    "    print(\"Общий доход по каждому продукту:\")\n",
    "    for product, income in total_income.items():\n",
    "        print(f\"{product}: {income:.2f} руб.\")"
   ]
  },
  {
   "cell_type": "code",
   "execution_count": null,
   "id": "75bf7e6f-bcf9-45a5-b831-6b41f4ec3411",
   "metadata": {},
   "outputs": [],
   "source": [
    "\n",
    "\n"
   ]
  }
 ],
 "metadata": {
  "kernelspec": {
   "display_name": "Python 3 (ipykernel)",
   "language": "python",
   "name": "python3"
  },
  "language_info": {
   "codemirror_mode": {
    "name": "ipython",
    "version": 3
   },
   "file_extension": ".py",
   "mimetype": "text/x-python",
   "name": "python",
   "nbconvert_exporter": "python",
   "pygments_lexer": "ipython3",
   "version": "3.12.4"
  }
 },
 "nbformat": 4,
 "nbformat_minor": 5
}
