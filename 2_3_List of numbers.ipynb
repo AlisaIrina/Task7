{
 "cells": [
  {
   "cell_type": "code",
   "execution_count": 1,
   "id": "c8340732-b48d-4a6e-8dad-854a1a934d29",
   "metadata": {},
   "outputs": [],
   "source": [
    "from math import prod"
   ]
  },
  {
   "cell_type": "code",
   "execution_count": 2,
   "id": "ce7f36bc-7f90-4dee-ab65-a5313b1276b0",
   "metadata": {},
   "outputs": [],
   "source": [
    "def calculate_statistics(numbers):\n",
    "     total_sum = sum(numbers)\n",
    "     total_product = prod(numbers)\n",
    "     average = total_sum / len(numbers)\n",
    "     return total_sum, total_product, average"
   ]
  },
  {
   "cell_type": "code",
   "execution_count": 3,
   "id": "5dc2a095-f419-4643-ba2e-f7d991f718e2",
   "metadata": {},
   "outputs": [],
   "source": [
    "numbers = [1, 2, 3, 4, 5]\n",
    "result = numbers\n",
    "sum_of_numbers, product_of_numbers, average = calculate_statistics(numbers)"
   ]
  },
  {
   "cell_type": "code",
   "execution_count": 4,
   "id": "373761f3-bac8-4380-ac17-83d69f0ca8c4",
   "metadata": {},
   "outputs": [
    {
     "name": "stdout",
     "output_type": "stream",
     "text": [
      "Сумма: 1, Произведение: 2, Среднее арифметическое: 3\n"
     ]
    }
   ],
   "source": [
    "print(f\"Сумма: {result[0]}, Произведение: {result[1]}, Среднее арифметическое: {result[2]}\")"
   ]
  }
 ],
 "metadata": {
  "kernelspec": {
   "display_name": "Python 3 (ipykernel)",
   "language": "python",
   "name": "python3"
  },
  "language_info": {
   "codemirror_mode": {
    "name": "ipython",
    "version": 3
   },
   "file_extension": ".py",
   "mimetype": "text/x-python",
   "name": "python",
   "nbconvert_exporter": "python",
   "pygments_lexer": "ipython3",
   "version": "3.12.4"
  }
 },
 "nbformat": 4,
 "nbformat_minor": 5
}
