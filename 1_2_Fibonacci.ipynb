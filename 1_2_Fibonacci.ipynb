{
 "cells": [
  {
   "cell_type": "code",
   "execution_count": 1,
   "id": "8a24cfd5-9b07-41a2-8c28-45c842070752",
   "metadata": {},
   "outputs": [],
   "source": [
    "def fibonacci(n):\n",
    "    \n",
    "    a = 0\n",
    "    b = 1\n",
    "    result = []\n",
    "    for _ in range(n):\n",
    "        c = a + b\n",
    "        result.append(c)\n",
    "        a, b = b, c\n",
    "    return result"
   ]
  },
  {
   "cell_type": "code",
   "execution_count": 2,
   "id": "a5904211-d166-4a2a-bcba-cff840cde49e",
   "metadata": {},
   "outputs": [
    {
     "name": "stdin",
     "output_type": "stream",
     "text": [
      "Введите количество элементов списка Фибоначчи:  10\n"
     ]
    }
   ],
   "source": [
    "n = int(input(\"Введите количество элементов списка Фибоначчи: \"))"
   ]
  },
  {
   "cell_type": "code",
   "execution_count": 3,
   "id": "d1b5b7df-709c-4082-9c96-2641bf3e97e6",
   "metadata": {},
   "outputs": [
    {
     "name": "stdout",
     "output_type": "stream",
     "text": [
      "[1, 2, 3, 5, 8, 13, 21, 34, 55, 89]\n"
     ]
    }
   ],
   "source": [
    "print(fibonacci(n))"
   ]
  }
 ],
 "metadata": {
  "kernelspec": {
   "display_name": "Python 3 (ipykernel)",
   "language": "python",
   "name": "python3"
  },
  "language_info": {
   "codemirror_mode": {
    "name": "ipython",
    "version": 3
   },
   "file_extension": ".py",
   "mimetype": "text/x-python",
   "name": "python",
   "nbconvert_exporter": "python",
   "pygments_lexer": "ipython3",
   "version": "3.12.4"
  }
 },
 "nbformat": 4,
 "nbformat_minor": 5
}
