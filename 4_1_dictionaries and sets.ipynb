{
 "cells": [
  {
   "cell_type": "code",
   "execution_count": 1,
   "id": "e7f236d3-675e-4c7e-ac4a-ee86508ab84a",
   "metadata": {},
   "outputs": [],
   "source": [
    "from collections import Counter"
   ]
  },
  {
   "cell_type": "code",
   "execution_count": 2,
   "id": "eb3eed27-4648-4d05-a70c-67d3533a585a",
   "metadata": {},
   "outputs": [],
   "source": [
    "input_string = \"Привет мир!\"\n",
    "char_counts = Counter(input_string)"
   ]
  },
  {
   "cell_type": "code",
   "execution_count": 3,
   "id": "026222d5-ac87-47e7-b9a4-58c0aceb68ca",
   "metadata": {},
   "outputs": [
    {
     "name": "stdout",
     "output_type": "stream",
     "text": [
      "{'П': 1, 'р': 2, 'и': 2, 'в': 1, 'е': 1, 'т': 1, ' ': 1, 'м': 1, '!': 1}\n"
     ]
    }
   ],
   "source": [
    "result_dict = dict(char_counts)\n",
    "print(result_dict)"
   ]
  }
 ],
 "metadata": {
  "kernelspec": {
   "display_name": "Python 3 (ipykernel)",
   "language": "python",
   "name": "python3"
  },
  "language_info": {
   "codemirror_mode": {
    "name": "ipython",
    "version": 3
   },
   "file_extension": ".py",
   "mimetype": "text/x-python",
   "name": "python",
   "nbconvert_exporter": "python",
   "pygments_lexer": "ipython3",
   "version": "3.12.4"
  }
 },
 "nbformat": 4,
 "nbformat_minor": 5
}
