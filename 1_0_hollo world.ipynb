{
 "cells": [
  {
   "cell_type": "markdown",
   "id": "bb9c1166-26eb-491a-b9a8-0322cbe27a9e",
   "metadata": {},
   "source": [
    "первая программа на питоне"
   ]
  },
  {
   "cell_type": "code",
   "execution_count": 2,
   "id": "38897f2c-661b-401b-a0a0-73fef97df726",
   "metadata": {},
   "outputs": [
    {
     "name": "stdout",
     "output_type": "stream",
     "text": [
      "Hollo world!\n"
     ]
    }
   ],
   "source": [
    "print(\"Hollo world!\")\n",
    "#нужно нажать плей"
   ]
  },
  {
   "cell_type": "code",
   "execution_count": 4,
   "id": "c2639498-fdc7-4cdb-86e9-c24d15ea0420",
   "metadata": {},
   "outputs": [],
   "source": [
    "def hello():\n",
    "    print(\"Hollo world!\")"
   ]
  },
  {
   "cell_type": "code",
   "execution_count": 5,
   "id": "25345297-11d1-4d11-8425-79f596b8ddb8",
   "metadata": {},
   "outputs": [
    {
     "name": "stdout",
     "output_type": "stream",
     "text": [
      "Hollo world!\n"
     ]
    }
   ],
   "source": [
    "hello()"
   ]
  },
  {
   "cell_type": "code",
   "execution_count": null,
   "id": "f22cf906-b85b-42b3-afdc-e8ddfa0d19e5",
   "metadata": {},
   "outputs": [],
   "source": []
  }
 ],
 "metadata": {
  "kernelspec": {
   "display_name": "Python 3 (ipykernel)",
   "language": "python",
   "name": "python3"
  },
  "language_info": {
   "codemirror_mode": {
    "name": "ipython",
    "version": 3
   },
   "file_extension": ".py",
   "mimetype": "text/x-python",
   "name": "python",
   "nbconvert_exporter": "python",
   "pygments_lexer": "ipython3",
   "version": "3.12.4"
  }
 },
 "nbformat": 4,
 "nbformat_minor": 5
}
